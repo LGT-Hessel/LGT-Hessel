{
 "cells": [
  {
   "cell_type": "markdown",
   "id": "ac61b573",
   "metadata": {},
   "source": [
    "# TP n°1 : mise en pratique de la fiche 2\n",
    "\n",
    "On a préparé les programmes de la fiche 1 pour vous permettre de les tester et, éventuellement, de les modifier si besoin."
   ]
  },
  {
   "cell_type": "markdown",
   "id": "246858bd",
   "metadata": {},
   "source": [
    "### Exercice 1"
   ]
  },
  {
   "cell_type": "code",
   "execution_count": null,
   "id": "a16f02b0",
   "metadata": {},
   "outputs": [],
   "source": [
    "# Programme A\n",
    "masse = 50\n",
    "vitesse = 12\n",
    "energie = 0.5*masse*vitesse**2\n",
    "print(energie)"
   ]
  },
  {
   "cell_type": "code",
   "execution_count": null,
   "id": "527dd5fb",
   "metadata": {},
   "outputs": [],
   "source": [
    "# Programme B\n",
    "from math import sqrt\n",
    "a=sqrt(35)-1\n",
    "b=(sqrt(35)+1)/4\n",
    "a*b"
   ]
  },
  {
   "cell_type": "markdown",
   "id": "eb2974d4",
   "metadata": {},
   "source": [
    "### Exercice 2"
   ]
  },
  {
   "cell_type": "markdown",
   "id": "78c3c834",
   "metadata": {},
   "source": [
    "En 2017, environ 94% de la population française possédait un téléphone portable (Source : CREDOC). La population française est estimée à 66 990 826 habitants en 2017 (source : INSEE).\n",
    "Quel programme doit-on écrire dans la console Python pour calculer le nombre d’habitants possédant un téléphone portable en 2017 en France ?"
   ]
  },
  {
   "cell_type": "code",
   "execution_count": null,
   "id": "d1aead59",
   "metadata": {},
   "outputs": [],
   "source": [
    "# Votre proposition"
   ]
  },
  {
   "cell_type": "markdown",
   "id": "e919605a",
   "metadata": {},
   "source": [
    "### Exercice 3\n",
    "\n",
    "La lune a un rayon d’environ 1 737 km. On affecte cette valeur à une variable lune.\n",
    "\n",
    "1. Quelles instructions doit-on saisir dans la console Python pour déterminer le volume de la lune ?"
   ]
  },
  {
   "cell_type": "code",
   "execution_count": null,
   "id": "e09f8b17",
   "metadata": {},
   "outputs": [],
   "source": [
    "#question 1\n",
    "from math import pi"
   ]
  },
  {
   "cell_type": "markdown",
   "id": "20472cb5",
   "metadata": {},
   "source": [
    "2. Quel est le volume de la lune ?"
   ]
  },
  {
   "cell_type": "code",
   "execution_count": null,
   "id": "5c12f8c1",
   "metadata": {},
   "outputs": [],
   "source": [
    "#question 2\n",
    "from math import pi"
   ]
  },
  {
   "cell_type": "markdown",
   "id": "3e07b565",
   "metadata": {},
   "source": [
    "### Exercice: chaînes de caractères\n",
    "\n",
    "Voici une cellule pour tester vos commandes sur les chaînes de caractères.\n",
    "\n"
   ]
  },
  {
   "cell_type": "code",
   "execution_count": null,
   "id": "aa61574b",
   "metadata": {},
   "outputs": [],
   "source": []
  },
  {
   "cell_type": "markdown",
   "id": "5ce255d8",
   "metadata": {},
   "source": [
    "### Exercice: Valeurs entrées par un utilisateur\n",
    "\n",
    "Voici une cellule pour tester vos commandes concernant les valeurs entrées par un utilisateur."
   ]
  },
  {
   "cell_type": "code",
   "execution_count": null,
   "id": "b7473122",
   "metadata": {},
   "outputs": [],
   "source": []
  },
  {
   "cell_type": "markdown",
   "id": "73386f00",
   "metadata": {},
   "source": [
    "### Les affichages à l'écran.\n",
    "\n",
    "### Exercice 1:\n",
    "\n",
    "A vous de jouer: vous pouvez taper les instructions de l'exercice et observer les résultats."
   ]
  },
  {
   "cell_type": "code",
   "execution_count": null,
   "id": "34ff5cd1",
   "metadata": {},
   "outputs": [],
   "source": []
  },
  {
   "cell_type": "markdown",
   "id": "1d27ca3b",
   "metadata": {},
   "source": [
    "### Exercice 2:\n",
    "\n",
    "1. realisateur $\\leftarrow$ Chaplin\n",
    "2. film $\\leftarrow$ Le Dictateur\n",
    "3. annee $\\leftarrow$ 1940\n",
    "4. Afficher realisateur, film, annee"
   ]
  },
  {
   "cell_type": "code",
   "execution_count": null,
   "id": "53207ed6",
   "metadata": {},
   "outputs": [],
   "source": []
  },
  {
   "cell_type": "markdown",
   "id": "08244c8a",
   "metadata": {},
   "source": [
    "## FIN DE CE TP. \n",
    "\n",
    "Vous pouvez faire une impression en pdf pour soumettre votre travail à votre enseignant-e."
   ]
  },
  {
   "cell_type": "code",
   "execution_count": null,
   "id": "793c6e92",
   "metadata": {},
   "outputs": [],
   "source": []
  }
 ],
 "metadata": {
  "kernelspec": {
   "display_name": "Python 3",
   "language": "python",
   "name": "python3"
  },
  "language_info": {
   "codemirror_mode": {
    "name": "ipython",
    "version": 3
   },
   "file_extension": ".py",
   "mimetype": "text/x-python",
   "name": "python",
   "nbconvert_exporter": "python",
   "pygments_lexer": "ipython3",
   "version": "3.8.8"
  }
 },
 "nbformat": 4,
 "nbformat_minor": 5
}
