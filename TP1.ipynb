{
 "cells": [
  {
   "cell_type": "markdown",
   "id": "309ebabc",
   "metadata": {},
   "source": [
    "# Débuter en Python - Classe de Seconde\n",
    "\n",
    "Voici votre premier notebook, c'est une feuille de travail qui vous permet de travailler sur la programmation à la maison. Celle-ci doit être utlisée avec le sujet n°1 distribué en classe (cf cahier de textes)."
   ]
  },
  {
   "cell_type": "markdown",
   "id": "72c945a8",
   "metadata": {},
   "source": [
    "### Fonctionnement de la console\n",
    "\n",
    "La **console** python est la façon dont on vous communiquez avec le programme sur votre ordinateur. Dans un **notebook** il s'agit des cases commençant par *Entrée [ ]*. Pour écrire dedans, il suffit de cliquer et d'écrire, on peut aller à la ligne avec la touche *entrée*. Pour **valider**, c'est-à-dire faire exécuter la commande à Python, on appuyera sur *shift+entrée*. Vous pouvez essayer dans la cellule ci-dessous."
   ]
  },
  {
   "cell_type": "code",
   "execution_count": null,
   "id": "6b172178",
   "metadata": {},
   "outputs": [],
   "source": [
    "variable=2**8\n",
    "print(variable)"
   ]
  },
  {
   "cell_type": "markdown",
   "id": "176d6eaf",
   "metadata": {},
   "source": [
    "### Instruction conditionnelle\n",
    "\n",
    "Une instruction conditionnelle est une commande commençant par **if** suivi d'une **condition à réaliser**. On peut demander à la machine de réaliser une autre commande si la **condition *n'est pas* réalisée** en ajoutant **else**."
   ]
  },
  {
   "cell_type": "code",
   "execution_count": null,
   "id": "5a8517f3",
   "metadata": {},
   "outputs": [],
   "source": [
    "Somme = 30\n",
    "Robe = 50\n",
    "Foulard = 15\n",
    "s='Bonjour'\n",
    "L=['a','b',4]"
   ]
  },
  {
   "cell_type": "code",
   "execution_count": null,
   "id": "dfcebcbc",
   "metadata": {},
   "outputs": [],
   "source": [
    "def achat(a,b):\n",
    "    if a<b:\n",
    "        print('Vous pouvez réaliser cet achat')\n",
    "    else:\n",
    "        print('Vous ne pouvez pas réaliser cet achat car il vous manque ',a-b,' euros.')\n",
    "    return None"
   ]
  },
  {
   "cell_type": "markdown",
   "id": "d9e1675b",
   "metadata": {},
   "source": [
    "Dans la cellule ci-dessus, vous avez créé votre premier programme. Pour l'utiliser, il suffit d'écrire achat(...,...) en remplaçant les ... par les valeurs que vous souhaitez dans l'une des cellules ci-dessous."
   ]
  },
  {
   "cell_type": "code",
   "execution_count": null,
   "id": "7f07b982",
   "metadata": {},
   "outputs": [],
   "source": [
    "# Cellule de test n°1\n"
   ]
  },
  {
   "cell_type": "code",
   "execution_count": null,
   "id": "343a6dda",
   "metadata": {},
   "outputs": [],
   "source": [
    "# Cellule de test n°2\n"
   ]
  },
  {
   "cell_type": "markdown",
   "id": "29ddb559",
   "metadata": {},
   "source": [
    "### Types de variables\n",
    "\n",
    "Pour connaître le **type** d'une variable, il suffit de le demander à la machine avec la commande **type(...)**."
   ]
  },
  {
   "cell_type": "code",
   "execution_count": null,
   "id": "19f93cb2",
   "metadata": {},
   "outputs": [],
   "source": [
    "type(Somme)"
   ]
  },
  {
   "cell_type": "code",
   "execution_count": null,
   "id": "2471a768",
   "metadata": {},
   "outputs": [],
   "source": [
    "type(L)"
   ]
  },
  {
   "cell_type": "code",
   "execution_count": null,
   "id": "7f201f9b",
   "metadata": {},
   "outputs": [],
   "source": [
    "type(s)"
   ]
  },
  {
   "cell_type": "code",
   "execution_count": null,
   "id": "d160b42e",
   "metadata": {},
   "outputs": [],
   "source": [
    "print('La variable Somme est du type ',type(Somme))"
   ]
  },
  {
   "cell_type": "code",
   "execution_count": null,
   "id": "b2c66ee1",
   "metadata": {},
   "outputs": [],
   "source": [
    "from math import pi\n",
    "type(pi)"
   ]
  },
  {
   "cell_type": "markdown",
   "id": "250a92a7",
   "metadata": {},
   "source": [
    "### Faire des maths avec Python\n",
    "\n",
    "Au début de la cellule ci-dessus, vous aurez remarqué la commande \"import\" qui a plusieurs utilisations.\n",
    "Elle permet de faire appel à ce que l'on appelle une \"bibliothèque\" c'est-à-dire un ensemble de commandes qui peuvent vous éviter de perdre du temps.\n",
    "Ici on voulait juste le nombre $\\pi$ alors on lui demande d'**importer** le nombre **pi** depuis le **module *math***\n",
    "Petite remarque: lorsque l'on veut appeler un **module** il est souvent utile de lui donner un nom. Voir ci-dessous pourquoi."
   ]
  },
  {
   "cell_type": "code",
   "execution_count": null,
   "id": "2edab9fe",
   "metadata": {},
   "outputs": [],
   "source": [
    "from math import * # importe tout le contenu du module math"
   ]
  },
  {
   "cell_type": "code",
   "execution_count": null,
   "id": "6a83610c",
   "metadata": {},
   "outputs": [],
   "source": [
    "pi"
   ]
  },
  {
   "cell_type": "code",
   "execution_count": null,
   "id": "1f26d336",
   "metadata": {},
   "outputs": [],
   "source": [
    "pi=5"
   ]
  },
  {
   "cell_type": "code",
   "execution_count": null,
   "id": "5bc63e14",
   "metadata": {},
   "outputs": [],
   "source": [
    "pi"
   ]
  },
  {
   "cell_type": "markdown",
   "id": "18a8d34c",
   "metadata": {},
   "source": [
    "Le nombre $\\pi$ n'a plus la bonne valeur à cause d'une ligne maladroite. Il vaut mieux faire comme suit."
   ]
  },
  {
   "cell_type": "code",
   "execution_count": null,
   "id": "de07d567",
   "metadata": {},
   "outputs": [],
   "source": [
    "import math as mt # le module math s'appelle mt et pour l'utiliser on devra faire mt.pi par exemple"
   ]
  },
  {
   "cell_type": "code",
   "execution_count": null,
   "id": "6bd88a5b",
   "metadata": {},
   "outputs": [],
   "source": [
    "pi"
   ]
  },
  {
   "cell_type": "code",
   "execution_count": null,
   "id": "4560061f",
   "metadata": {},
   "outputs": [],
   "source": [
    "mt.pi"
   ]
  },
  {
   "cell_type": "markdown",
   "id": "37e54406",
   "metadata": {},
   "source": [
    "Ici, on l'a un peu cherché mais si vous utilisez un module, vous ne savez pas toujours quelles sont toutes les fonctions qu'il contient et ce serait dommage de refaire cette bêtise sans le vouloir."
   ]
  },
  {
   "cell_type": "code",
   "execution_count": null,
   "id": "4aabbacb",
   "metadata": {},
   "outputs": [],
   "source": []
  }
 ],
 "metadata": {
  "kernelspec": {
   "display_name": "Python 3",
   "language": "python",
   "name": "python3"
  },
  "language_info": {
   "codemirror_mode": {
    "name": "ipython",
    "version": 3
   },
   "file_extension": ".py",
   "mimetype": "text/x-python",
   "name": "python",
   "nbconvert_exporter": "python",
   "pygments_lexer": "ipython3",
   "version": "3.8.8"
  }
 },
 "nbformat": 4,
 "nbformat_minor": 5
}
