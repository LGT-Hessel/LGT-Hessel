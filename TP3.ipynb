{
 "cells": [
  {
   "cell_type": "markdown",
   "id": "01945bb2",
   "metadata": {},
   "source": [
    "# TP n°3 : Instructions conditionnelles\n",
    "\n",
    "### Exercice 2\n",
    "\n",
    "Voici le script, compléter sur votre feuille les valeurs obtenues pour:\n",
    "\n",
    "$n=25$\n",
    "\n",
    "\n",
    "\n",
    "$n=3$\n",
    "\n",
    "\n",
    "\n",
    "$n=-12$"
   ]
  },
  {
   "cell_type": "code",
   "execution_count": null,
   "id": "66a15b27",
   "metadata": {},
   "outputs": [],
   "source": [
    "n=25\n",
    "if n%5==0:\n",
    "    M=n/5\n",
    "else:\n",
    "    n=0"
   ]
  },
  {
   "cell_type": "markdown",
   "id": "9076f922",
   "metadata": {},
   "source": [
    "### Exercice 3\n",
    "\n",
    "Dans une école de Rugby, il y a 4 groupes:\n",
    "* U8 pour les joueurs entre 8 et 10 ans (exclus)\n",
    "* U10 pour les joueurs entre 10 et 12 ans (exclus)\n",
    "* U12 pour les joueurs entre 12 et 14 ans (exclus)\n",
    "* U14 pour les joueurs entre 14 et 16 ans (exclus)\n",
    "\n",
    "Compléter le programme ci-dessous pour donner son groupe à un joueur souhaitant s'inscrire."
   ]
  },
  {
   "cell_type": "code",
   "execution_count": null,
   "id": "39ce800e",
   "metadata": {},
   "outputs": [],
   "source": [
    "a = int(input(\"Age du joueur? \"))\n",
    "if a<8 or a>=16:\n",
    "    print(\"Il n'y a pas de groupe pour votre âge. Désolé.\")\n",
    "    elif .........:\n",
    "        .........\n",
    "    elif .........:\n",
    "        .........\n",
    "    elif .........:\n",
    "        .........\n",
    "    else:\n",
    "        .........   "
   ]
  },
  {
   "cell_type": "markdown",
   "id": "fc6352df",
   "metadata": {},
   "source": [
    "### Exercice 4\n",
    "\n",
    "Lorsque c'est l'été en France, il y a 5 heures de décalage avec Rio de Janeiro au Brésil, c'est-à-dire que, lorsqu'il est 10h à Toulouse, il est 5h du matin à Rio.\n",
    "\n",
    "1. (a) Quelle heure est-il à Rio lorsqu'il est 21h à Toulouse?\n",
    "\n",
    "   (b) Quelle heure est-il à Toulouse lorsqu'il est 1h à Rio?\n",
    "\n",
    "2. Compléter l'algorithme ci-dessous puis rédiger le programme correspondant en python.\n",
    "\n",
    "\n",
    "Algorithme:\n",
    "\n",
    "Si $p\\geq 5$\n",
    "\n",
    "   alors $r\\leftarrow\\dots$\n",
    "\n",
    "   sinon $r\\leftarrow\\dots$"
   ]
  },
  {
   "cell_type": "code",
   "execution_count": null,
   "id": "1359d74d",
   "metadata": {},
   "outputs": [],
   "source": []
  }
 ],
 "metadata": {
  "kernelspec": {
   "display_name": "Python 3 (ipykernel)",
   "language": "python",
   "name": "python3"
  },
  "language_info": {
   "codemirror_mode": {
    "name": "ipython",
    "version": 3
   },
   "file_extension": ".py",
   "mimetype": "text/x-python",
   "name": "python",
   "nbconvert_exporter": "python",
   "pygments_lexer": "ipython3",
   "version": "3.8.8"
  }
 },
 "nbformat": 4,
 "nbformat_minor": 5
}
