{
 "cells": [
  {
   "cell_type": "markdown",
   "id": "f78c9cfd",
   "metadata": {},
   "source": [
    "# TP4: Les boucles bornées\n",
    "\n",
    "### Exercice 4\n",
    "\n",
    "Vous pouvez tester le programme ci-desous:"
   ]
  },
  {
   "cell_type": "code",
   "execution_count": null,
   "id": "744add25",
   "metadata": {},
   "outputs": [],
   "source": [
    "s=0\n",
    "for i in range(101):\n",
    "    s=s+i\n",
    "print(s)"
   ]
  },
  {
   "cell_type": "markdown",
   "id": "1e4e6176",
   "metadata": {},
   "source": [
    "### Exercice 5\n",
    "\n",
    "On a placé 5000€ sur un compte rémunéré à 2,5% par an. On souhaite connaître la somme disponible 10 ans plus tard. Compléter le programme."
   ]
  },
  {
   "cell_type": "code",
   "execution_count": null,
   "id": "3f0cdd48",
   "metadata": {},
   "outputs": [],
   "source": [
    "c=...\n",
    "for i in range(...):\n",
    "    c=...\n",
    "print(round(c,2))"
   ]
  },
  {
   "cell_type": "markdown",
   "id": "9437a506",
   "metadata": {},
   "source": [
    "### Exercice 6\n",
    "\n",
    "Vous pouvez tester les différents programmes dans la cellule ci-dessous (il faudra les recopier, le copier-coller ne fonctionnera pas)."
   ]
  },
  {
   "cell_type": "code",
   "execution_count": null,
   "id": "338ea220",
   "metadata": {},
   "outputs": [],
   "source": []
  },
  {
   "cell_type": "markdown",
   "id": "b36bcacc",
   "metadata": {},
   "source": [
    "### Exercice 7\n",
    "\n",
    "Vous pouvez exécuter le programme pour savoir ce qu'il fait."
   ]
  },
  {
   "cell_type": "code",
   "execution_count": null,
   "id": "b80ea3e2",
   "metadata": {},
   "outputs": [],
   "source": [
    "n=5\n",
    "nbre=5\n",
    "for i in range(n):\n",
    "    if nbre%2==0:\n",
    "        nbre=nbre//2\n",
    "    else:\n",
    "        nbre=3*nbre+1\n",
    "    print(nbre)"
   ]
  },
  {
   "cell_type": "code",
   "execution_count": null,
   "id": "d2595d44",
   "metadata": {},
   "outputs": [],
   "source": []
  }
 ],
 "metadata": {
  "kernelspec": {
   "display_name": "Python 3 (ipykernel)",
   "language": "python",
   "name": "python3"
  },
  "language_info": {
   "codemirror_mode": {
    "name": "ipython",
    "version": 3
   },
   "file_extension": ".py",
   "mimetype": "text/x-python",
   "name": "python",
   "nbconvert_exporter": "python",
   "pygments_lexer": "ipython3",
   "version": "3.8.8"
  }
 },
 "nbformat": 4,
 "nbformat_minor": 5
}
